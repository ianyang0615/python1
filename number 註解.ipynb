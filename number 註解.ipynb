{
 "cells": [
  {
   "cell_type": "code",
   "execution_count": 2,
   "metadata": {},
   "outputs": [],
   "source": [
    "import matplotlib.pyplot as plt\n",
    "import matplotlib.image as mpimg\n",
    "import numpy as np\n",
    "import cv2\n",
    "import time\n",
    "\n",
    "from  keras.models import load_model\n",
    "model = load_model('my_model.h5')\n",
    "#model.summary()\n",
    "model.load_weights('my_model_weights.h5')\n",
    "\n",
    "#Using TensorFlow backend."
   ]
  },
  {
   "cell_type": "code",
   "execution_count": 6,
   "metadata": {},
   "outputs": [
    {
     "name": "stdout",
     "output_type": "stream",
     "text": [
      "Image Size: 640 x 480\n",
      "It takes 0.066194 sec for each frame\n"
     ]
    }
   ],
   "source": [
    "cap = cv2.VideoCapture(0)\n",
    "width = cap.get(cv2.CAP_PROP_FRAME_WIDTH) # 取得影像的尺寸大小\n",
    "height = cap.get(cv2.CAP_PROP_FRAME_HEIGHT) # 取得影像的尺寸大小\n",
    "print(\"Image Size: %d x %d\" % (width, height)) #%d 以10 進位整數方式輸出\n",
    "\n",
    "while(True):\n",
    "    tStart = time.time() #計時開始\n",
    "    ret, img_1 = cap.read()  # 從攝影機擷取一張影像\n",
    "    img_2 = img_1[0:480,80:560]\n",
    "    cv2.imshow('Camera',img_2)  # 顯示圖片\n",
    "    \n",
    "    img_2_gray = cv2.cvtColor(img_2, cv2.COLOR_BGR2GRAY)  # 將圖片轉為灰階\n",
    "    img_3 = 255 - img_2_gray\n",
    "    img_3 = img_3.astype('float32') #對資料型別進行轉換\n",
    "    img_3_min = np.amin(img_3)\n",
    "    img_4 = img_3 - np.amin(img_3) #一維數組a中的最小值，二維數組需通過axis指定行或列，獲取行或列的最小值 \n",
    "    img_5 = 255 * img_4 / (np.amax(img_4))\n",
    "    kernel = np.ones((5,5),np.uint8) #ˋ轉換1\n",
    "    img_6 = cv2.dilate(img_5,kernel,iterations = 3) #第一個參數為二值化的影像， 第二個參數為使用的捲積 kernel，第三個參數為迭代次數(預設為1)\n",
    "    img_7 = cv2.resize(img_6,(28,28),1) #把照片縮放 28*28\n",
    "    img_8 = img_6.astype('uint8') #轉換 0 to 255\n",
    "    cv2.imshow('input',img_8)\n",
    "\n",
    "    #print(img_1.dtype, img_1.shape)\n",
    "    #print(img_2.dtype, img_2.shape)\n",
    "\n",
    "    x_test_image = np.reshape(img_7, (1,28,28))#轉換成28*28\n",
    "    #print(np.amax(x_test_image))\n",
    "    #print(np.amin(x_test_image))\n",
    "\n",
    "    # convert 2-D 28x28 image to 4-D nx28x28x1  array\n",
    "    x_Test4D=x_test_image.reshape(x_test_image.shape[0],28,28,1).astype('float32')\n",
    "    # normalize the image numbers to 0~1\n",
    "    x_Test4D_normalize = (x_Test4D / np.amax(x_test_image))\n",
    "    #print(x_Test4D_normalize.shape)\n",
    "    prediction=model.predict_classes(x_Test4D_normalize)\n",
    "\n",
    "\n",
    "    filename = '%s%d%s' % ('./numbers/number_', prediction, '.jpg') #取的資料夾事先做的JPG\n",
    "    img_9 = cv2.imread(filename)\n",
    "    img_10 = cv2.resize(img_9,(480,480),1)\n",
    "    cv2.imshow('inference',img_10)\n",
    "    tEnd = time.time() #計時結束\n",
    "\n",
    "    if cv2.waitKey(1) & 0xFF == ord('q'): #如果按Q即刻跳出\n",
    "        cv2.imwrite('output.jpg', img_2)\n",
    "        break\n",
    "\n",
    "cap.release() # 釋放攝影機\n",
    "cv2.destroyAllWindows() # 關閉所有 OpenCV 視窗\n",
    "\n",
    "print('It takes %f sec for each frame' % (tEnd - tStart))"
   ]
  },
  {
   "cell_type": "code",
   "execution_count": null,
   "metadata": {},
   "outputs": [],
   "source": []
  }
 ],
 "metadata": {
  "kernelspec": {
   "display_name": "Python 3",
   "language": "python",
   "name": "python3"
  },
  "language_info": {
   "codemirror_mode": {
    "name": "ipython",
    "version": 3
   },
   "file_extension": ".py",
   "mimetype": "text/x-python",
   "name": "python",
   "nbconvert_exporter": "python",
   "pygments_lexer": "ipython3",
   "version": "3.8.3"
  }
 },
 "nbformat": 4,
 "nbformat_minor": 4
}
